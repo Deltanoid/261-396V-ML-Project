{
  "cells": [
    {
      "attachments": {},
      "cell_type": "markdown",
      "metadata": {},
      "source": [
        "Ali Chehab (amc33)\n",
        "Mahdi Al Zein (mfe24)\n",
        "Tia Charaf (tac04)"
      ]
    },
    {
      "cell_type": "markdown",
      "metadata": {
        "id": "Tfpo83URPri9"
      },
      "source": [
        "## Imports"
      ]
    },
    {
      "cell_type": "code",
      "execution_count": null,
      "metadata": {
        "id": "cQLYLbOgPyuf"
      },
      "outputs": [],
      "source": [
        "# note, we are in the content directory for future use with colab\n",
        "import numpy as np \n",
        "import pandas as pd\n",
        "import tensorflow as tf\n",
        "import matplotlib.pyplot as plt\n",
        "from tensorflow.keras.layers import Dense\n",
        "from tensorflow.keras.losses import BinaryCrossentropy\n",
        "from keras import Sequential\n",
        "from scipy.stats import skew\n",
        "from sklearn.model_selection import train_test_split\n",
        "from keras.optimizers import SGD\n",
        "from sklearn import metrics\n",
        "from sklearn.metrics import classification_report\n",
        "from sklearn.ensemble import GradientBoostingClassifier\n",
        "import os.path\n",
        "import gdown\n",
        "import sklearn.metrics"
      ]
    },
    {
      "cell_type": "markdown",
      "metadata": {
        "id": "emszxyWZP1ty"
      },
      "source": [
        "## Data "
      ]
    },
    {
      "cell_type": "markdown",
      "metadata": {
        "id": "chOkK6AkTvl7"
      },
      "source": [
        "### Downloading or Uploading The File"
      ]
    },
    {
      "cell_type": "code",
      "execution_count": null,
      "metadata": {
        "colab": {
          "base_uri": "https://localhost:8080/"
        },
        "id": "WSJTsvZ8b62G",
        "outputId": "0ab1798a-f34a-4d8a-ddc0-8e3d6e92b141"
      },
      "outputs": [
        {
          "name": "stdout",
          "output_type": "stream",
          "text": [
            "CSV file not found. Downloading it for current session.\n"
          ]
        },
        {
          "name": "stderr",
          "output_type": "stream",
          "text": [
            "Downloading...\n",
            "From: https://drive.google.com/uc?id=1_odqKcHQw4_363i2N2Iq_ec8-8qlW3DM\n",
            "To: /content/HIGGS_train.csv\n",
            "100%|██████████| 161M/161M [00:03<00:00, 48.7MB/s]\n"
          ]
        }
      ],
      "source": [
        "# checks if the file exists and downloads it from a public link if not\n",
        "import os.path\n",
        "import gdown\n",
        "if( not os.path.isfile('./HIGGS_train.csv')):\n",
        "  print('CSV file not found. Downloading it for current session.')\n",
        "  url = 'https://drive.google.com/uc?id=1_odqKcHQw4_363i2N2Iq_ec8-8qlW3DM'\n",
        "  output = 'HIGGS_train.csv'\n",
        "  gdown.download(url, output, quiet=False)"
      ]
    },
    {
      "cell_type": "markdown",
      "metadata": {
        "id": "vh1R7BNIQkJ4"
      },
      "source": [
        "### Cleaning the data "
      ]
    },
    {
      "cell_type": "code",
      "execution_count": null,
      "metadata": {
        "colab": {
          "base_uri": "https://localhost:8080/"
        },
        "id": "EfJLBr-pS7U9",
        "outputId": "bb5a6a7a-354a-4279-a0af-298a29b17905"
      },
      "outputs": [
        {
          "name": "stdout",
          "output_type": "stream",
          "text": [
            "-0.11733266237216877\n"
          ]
        },
        {
          "data": {
            "image/png": "[encoded data removed]",
            "text/plain": [
              "<Figure size 640x480 with 1 Axes>"
            ]
          },
          "metadata": {},
          "output_type": "display_data"
        }
      ],
      "source": [
        "df = pd.read_csv(r'HIGGS_train.csv', low_memory=False) # gives mixed types error by default\n",
        "\n",
        "#Dropping the missing rows and rows that have errors / can not be converted to floats\n",
        "df = df.apply(pd.to_numeric, errors='coerce').dropna()\n",
        "\n",
        "y = df.iloc[:, 0].values # first column is the actual nature of the observation\n",
        "X = df.iloc[:, 1:].values # all the features on which the output is based\n",
        "print(skew(y, bias=False))# value of a skeweness of the data \n",
        "df = pd.DataFrame(y) # Create a pandas DataFrame out of the numpy array\n",
        "df.plot.hist(alpha=0.5, bins=2, grid=True, legend=None)  # Pandas helper function to plot a hist. Uses matplotlib under the hood.\n",
        "plt.xlabel(\"Signal and Background\")\n",
        "plt.title(\"Frequency of the Signal and Background processes\")\n",
        "plt.show()"
      ]
    },
    {
      "cell_type": "markdown",
      "metadata": {
        "id": "9_mZvCgVQxrr"
      },
      "source": [
        "### Splitting the data "
      ]
    },
    {
      "cell_type": "code",
      "execution_count": null,
      "metadata": {
        "id": "LMCwJT1ZFFbh"
      },
      "outputs": [],
      "source": [
        "X = np.asarray(X).astype('float32')# convert the matrix we have into a numpy array \n",
        "\n",
        "# split the data we have into training and testing (80% training and 20% testing )\n",
        "X_train, X_test, y_train, y_test = train_test_split(X, y, random_state=0, train_size = 0.80)"
      ]
    },
    {
      "cell_type": "markdown",
      "metadata": {
        "id": "5ckGf5RfSEl2"
      },
      "source": [
        "#Neural Networks:\n",
        "\n",
        "\n"
      ]
    },
    {
      "cell_type": "markdown",
      "metadata": {
        "id": "gXLB3pwuM0ry"
      },
      "source": [
        "### Model Nb 1: "
      ]
    },
    {
      "cell_type": "code",
      "execution_count": null,
      "metadata": {
        "id": "CU5Rw4lXmmcq"
      },
      "outputs": [],
      "source": [
        "# create the model which would consist of 3 layers \n",
        "layer1 = Dense(units = 15, activation = 'relu')\n",
        "layer2 = Dense(units = 3, activation = 'relu')\n",
        "layer3 = Dense(units = 1, activation = 'sigmoid')\n",
        "\n",
        "model = Sequential([layer1,layer2,layer3])\n",
        "\n",
        "model.compile(optimizer='adam',loss='binary_crossentropy', metrics=['accuracy'])\n",
        "# This builds the model for the first time:\n",
        "Model1=model.fit(X, y, batch_size=50 ,validation_split=0.2, epochs=100)\n",
        "# To find the loss and accuracy of the model:\n",
        "loss_best,accuracy_best=model.evaluate(X_test,y_test)\n",
        "\n",
        "# summarize history for accuracy\n",
        "plt.plot(Model1.history['accuracy'])\n",
        "plt.plot(Model1.history['val_accuracy'])\n",
        "plt.title('model accuracy')\n",
        "plt.ylabel('accuracy')\n",
        "plt.xlabel('epoch')\n",
        "plt.legend(['train', 'test'], loc='upper left')\n",
        "plt.show()\n",
        "# summarize history for loss\n",
        "plt.plot(Model1.history['loss'])\n",
        "plt.plot(Model1.history['val_loss'])\n",
        "plt.title('model loss')\n",
        "plt.ylabel('loss')\n",
        "plt.xlabel('epoch')\n",
        "plt.legend(['train', 'test'], loc='upper left')\n",
        "plt.show()\n",
        "# the Ouput we got: loss: 0.5423 - accuracy: 0.7216\n",
        "# The model accuracy and loss didn't fluctuate, however eventhough the accuracy could be better the loss is relatively high \n",
        "# Note that this model took 55 minutes and 32 seconds to run \n"
      ]
    },
    {
      "cell_type": "markdown",
      "metadata": {
        "id": "kZxR3cqYNB5Z"
      },
      "source": [
        "### Model Nb 2 \n",
        "\n"
      ]
    },
    {
      "cell_type": "code",
      "execution_count": null,
      "metadata": {
        "colab": {
          "base_uri": "https://localhost:8080/",
          "height": 416
        },
        "id": "axy_TSrY7x-F",
        "outputId": "3225e88c-c8e3-4d23-e13d-c0207d81a5ee"
      },
      "outputs": [],
      "source": [
        "\n",
        "# create the model which would consist of 2 layers \n",
        "layer1 = Dense(units = 40, activation = 'sigmoid')\n",
        "layer2 = Dense(units = 3, activation = 'tanh')\n",
        "\n",
        "model = Sequential([layer1,layer2])\n",
        "\n",
        "model.compile(optimizer='adam',loss='binary_crossentropy', metrics=['accuracy'])\n",
        "\n",
        "# This builds the model for the first time:\n",
        "Model2=model.fit(X, y, batch_size=50, validation_split=0.2, epochs=100)\n",
        "# To find the loss and accuracy of the model:\n",
        "loss_best,accuracy_best=model.evaluate(X_test,y_test)\n",
        "\n",
        "# summarize history for accuracy\n",
        "plt.plot(Model2.history['accuracy'])\n",
        "plt.plot(Model2.history['val_accuracy'])\n",
        "plt.title('model accuracy')\n",
        "plt.ylabel('accuracy')\n",
        "plt.xlabel('epoch')\n",
        "plt.legend(['train','test'], loc='upper left')\n",
        "plt.show()\n",
        "# summarize history for loss\n",
        "plt.plot(Model2.history['loss'])\n",
        "plt.plot(Model2.history['val_loss'])\n",
        "plt.title('model loss')\n",
        "plt.ylabel('loss')\n",
        "plt.xlabel('epoch')\n",
        "plt.legend(['train','test'], loc='upper left')\n",
        "plt.show()\n",
        "# decreasing the number of layers lead to a loss of 3.164 and an accuracy of 0.4265 with huge fluctuations during training.\n",
        "# This means that the model was too simple and we shall try to opposite approach\n",
        "# Note that this model took 47 min to run, expected as the number of layers and neurons have decreased the runtime should decrease as well "
      ]
    },
    {
      "cell_type": "markdown",
      "metadata": {
        "id": "HEfvOE_jNgB2"
      },
      "source": [
        "### Model Nb 3"
      ]
    },
    {
      "cell_type": "code",
      "execution_count": null,
      "metadata": {
        "colab": {
          "base_uri": "https://localhost:8080/",
          "height": 1000
        },
        "id": "TPCB0ubzQ821",
        "outputId": "22afceb5-9d55-4ae2-fd59-0f3ab5fc8aa8"
      },
      "outputs": [],
      "source": [
        "\n",
        "# create the model which would consist of 4 layers \n",
        "layer1 = Dense(units = 30, activation = 'relu')\n",
        "layer2 = Dense(units = 30, activation = 'sigmoid')\n",
        "layer3 = Dense(units = 10, activation = 'relu')\n",
        "layer4 = Dense(units = 1, activation = 'tanh')\n",
        "\n",
        "model = Sequential([layer1,layer2,layer3,layer4])\n",
        "\n",
        "model.compile(optimizer='adam',loss='binary_crossentropy', metrics=['accuracy'])\n",
        "# This builds the model for the first time:\n",
        "y_train = y_train.reshape((-1,1))\n",
        "\n",
        "Model3=model.fit(X, y, batch_size=50,validation_split=0.2, epochs=100)\n",
        "# To find the loss and accuracy of the model:\n",
        "loss_best,accuracy_best=model.evaluate(X_test,y_test)\n",
        "\n",
        "# summarize history for accuracy\n",
        "plt.plot(Model3.history['accuracy'])\n",
        "plt.plot(Model3.history['val_accuracy'])\n",
        "plt.title('model accuracy')\n",
        "plt.ylabel('accuracy')\n",
        "plt.xlabel('epoch')\n",
        "plt.legend(['train', 'test'], loc='upper left')\n",
        "plt.show()\n",
        "# summarize history for loss\n",
        "plt.plot(Model3.history['loss'])\n",
        "plt.plot(Model3.history['val_loss'])\n",
        "plt.title('model loss')\n",
        "plt.ylabel('loss')\n",
        "plt.xlabel('epoch')\n",
        "plt.legend(['train', 'test'], loc='upper left')\n",
        "plt.show()\n",
        "\n",
        "# loss: 0.5219 - accuracy: 0.7382 \n",
        "# runtime: 58 minutes "
      ]
    },
    {
      "cell_type": "markdown",
      "metadata": {
        "id": "HKZ_TKkIOS0z"
      },
      "source": [
        "### Model Nb 4 "
      ]
    },
    {
      "cell_type": "code",
      "execution_count": null,
      "metadata": {
        "colab": {
          "background_save": true
        },
        "id": "zlZBW_9RQKex"
      },
      "outputs": [],
      "source": [
        "#Model Nb 4\n",
        "# create the model which would consist of 3 layers \n",
        "layer1 = Dense(units = 28, activation = 'relu')\n",
        "layer2 = Dense(units = 15, activation = 'sigmoid')\n",
        "layer3 = Dense(units = 4, activation = 'sigmoid')\n",
        "\n",
        "model4 = Sequential([layer1,layer2,layer3])\n",
        "\n",
        "model.compile(optimizer='adam',loss='binary_crossentropy', metrics=['accuracy'])\n",
        "# This builds the model for the first time:\n",
        "Model4 = model.fit(X, y,batch_size=50 , validation_split=0.2, epochs=100)\n",
        "# To find the loss and accuracy of the model:\n",
        "loss_best,accuracy_best=model.evaluate(X_test,y_test)\n",
        "\n",
        "# summarize history for accuracy\n",
        "plt.plot(Model4.history['accuracy'])\n",
        "plt.plot(Model2.history['val_accuracy'])\n",
        "plt.title('model accuracy')\n",
        "plt.ylabel('accuracy')\n",
        "plt.xlabel('epoch')\n",
        "plt.legend(['train','test'], loc='upper left')\n",
        "plt.show()\n",
        "# summarize history for loss\n",
        "plt.plot(Model4.history['loss'])\n",
        "plt.plot(Model2.history['val_loss'])\n",
        "plt.title('model loss')\n",
        "plt.ylabel('loss')\n",
        "plt.xlabel('epoch')\n",
        "plt.legend(['train','test'], loc='upper left')\n",
        "plt.show()"
      ]
    },
    {
      "cell_type": "markdown",
      "metadata": {
        "id": "yGgJWU5CR_iS"
      },
      "source": [
        "### Model Nb 5"
      ]
    },
    {
      "cell_type": "code",
      "execution_count": null,
      "metadata": {
        "id": "7eRZfv0yQCat"
      },
      "outputs": [],
      "source": [
        "# Model Nb 5 \n",
        "# A more dense model with simpler/less varying activation list\n",
        "layer1 = Dense(units = 40, activation = 'relu')\n",
        "layer2 = Dense(units = 30, activation = 'relu')\n",
        "layer3 = Dense(units = 10, activation = 'relu')\n",
        "layer4 = Dense(units = 1, activation = 'sigmoid')\n",
        "\n",
        "model = Sequential([layer1,layer2,layer3,layer4])\n",
        "\n",
        "model.compile(optimizer='adam',loss='binary_crossentropy', metrics=['accuracy'])\n",
        "# This builds the model for the first time:\n",
        "Model5 = model.fit(X, y,batch_size=50, validation_split=0.2, epochs=100)\n",
        "# To find the loss and accuracy of the model:\n",
        "loss_best,accuracy_best=model.evaluate(X_test,y_test)\n",
        "\n",
        "# summarize history for accuracy\n",
        "plt.plot(Model5.history['accuracy'])\n",
        "plt.plot(Model5.history['val_accuracy'])\n",
        "plt.title('model accuracy')\n",
        "plt.ylabel('accuracy')\n",
        "plt.xlabel('epoch')\n",
        "plt.legend(['train', 'test'], loc='upper left')\n",
        "plt.show()\n",
        "# summarize history for loss\n",
        "plt.plot(Model5.history['loss'])\n",
        "plt.plot(Model5.history['val_loss'])\n",
        "plt.title('model loss')\n",
        "plt.ylabel('loss')\n",
        "plt.xlabel('epoch')\n",
        "plt.legend(['train', 'test'], loc='upper left')\n",
        "plt.show()\n",
        "# the Ouput we got: loss: 0.506 - accuracy: 0.745 - val_loss: 0.5107 - val_accuracy: 0.7428 "
      ]
    },
    {
      "cell_type": "markdown",
      "metadata": {
        "id": "tgIIEAb7PUQ9"
      },
      "source": [
        "### Model Nb 6"
      ]
    },
    {
      "cell_type": "code",
      "execution_count": null,
      "metadata": {
        "id": "Rglh63Pw-FAh"
      },
      "outputs": [],
      "source": [
        "# Model Nb 6\n",
        "# A more dense model with simpler/less varying activation list\n",
        "layer1 = Dense(units = 300, activation = 'tanh')\n",
        "layer2 = Dense(units = 300, activation = 'tanh')\n",
        "layer3 = Dense(units = 300, activation = 'tanh')\n",
        "layer4 = Dense(units = 300, activation = 'tanh')\n",
        "layer5 = Dense(units = 1, activation = 'sigmoid')\n",
        "\n",
        "model = Sequential([layer1,layer2,layer3,layer4,layer5])\n",
        "\n",
        "opt = SGD(lr=0.05, decay=1e-5)\n",
        "model.compile(optimizer=opt,loss='binary_crossentropy', metrics=['accuracy'])\n",
        "# This builds the model for the first time:\n",
        "Model6 = model.fit(X, y, batch_size=50 ,validation_split=0.2, epochs=200)\n",
        "# To find the loss and accuracy of the model:\n",
        "loss_best,accuracy_best=model.evaluate(X_test,y_test)\n",
        "\n",
        "# summarize history for accuracy\n",
        "plt.plot(Model6.history['accuracy'])\n",
        "plt.plot(Model6.history['val_accuracy'])\n",
        "plt.title('model accuracy')\n",
        "plt.ylabel('accuracy')\n",
        "plt.xlabel('epoch')\n",
        "plt.legend(['train', 'test'], loc='upper left')\n",
        "plt.show()\n",
        "# summarize history for loss\n",
        "plt.plot(Model6.history['loss'])\n",
        "plt.plot(Model6.history['val_loss'])\n",
        "plt.title('model loss')\n",
        "plt.ylabel('loss')\n",
        "plt.xlabel('epoch')\n",
        "plt.legend(['train', 'test'], loc='upper left')\n",
        "plt.show()\n",
        "# this model is definetly overfitting \n",
        "# took approx 1 hour to run  "
      ]
    },
    {
      "cell_type": "markdown",
      "metadata": {
        "id": "Adpg4ez7Nce7"
      },
      "source": [
        "### Final Model Nb 7"
      ]
    },
    {
      "cell_type": "markdown",
      "metadata": {
        "id": "ASqTM2XQ41-U"
      },
      "source": [
        "Loss and Accuracy Graphs"
      ]
    },
    {
      "cell_type": "code",
      "execution_count": null,
      "metadata": {
        "colab": {
          "base_uri": "https://localhost:8080/",
          "height": 1000
        },
        "id": "cHA9tQW5MEl3",
        "outputId": "a169b12f-8029-47b3-872e-482d48b6e62d"
      },
      "outputs": [],
      "source": [
        "# Model Nb 7\n",
        "# A more dense model with simpler/less varying activation list\n",
        "layer1 = Dense(units = 28, activation = 'relu')\n",
        "layer2 = Dense(units = 28, activation = 'relu')\n",
        "layer3 = Dense(units = 28, activation = 'relu')\n",
        "layer4 = Dense(units = 28, activation = 'relu')\n",
        "layer5 = Dense(units = 28, activation = 'relu')\n",
        "layer6 = Dense(units = 1, activation = 'sigmoid')\n",
        "\n",
        "model = Sequential([layer1,layer2,layer3,layer4,layer5,layer6])\n",
        "\n",
        "opt = SGD(lr=0.02, decay=1e-5)\n",
        "model.compile(optimizer=opt,loss='binary_crossentropy', metrics=['accuracy'])\n",
        "# This builds the model for the first time:\n",
        "Model7 = model.fit(X, y, batch_size=50,validation_split=0.2, epochs=100)\n",
        "# To find the loss and accuracy of the model:\n",
        "loss_best,accuracy_best=model.evaluate(X_test,y_test)\n",
        "\n",
        "# summarize history for accuracy\n",
        "plt.plot(Model7.history['accuracy'])\n",
        "plt.plot(Model7.history['val_accuracy'])\n",
        "plt.title('model accuracy')\n",
        "plt.ylabel('accuracy')\n",
        "plt.xlabel('epoch')\n",
        "plt.legend(['train', 'test'], loc='upper left')\n",
        "plt.show()\n",
        "# summarize history for loss\n",
        "plt.plot(Model7.history['loss'])\n",
        "plt.plot(Model7.history['val_loss'])\n",
        "plt.title('model loss')\n",
        "plt.ylabel('loss')\n",
        "plt.xlabel('epoch')\n",
        "plt.legend(['train', 'test'], loc='upper left')\n",
        "plt.show()\n",
        "# the Ouput we got: loss: 0.5088 - accuracy: 0.7435 - val_loss: 0.5122 - val_accuracy: 0.7427\n",
        "# took 42 minutes to run "
      ]
    },
    {
      "cell_type": "code",
      "execution_count": null,
      "metadata": {
        "id": "Qbv_j7C9c4BL"
      },
      "outputs": [],
      "source": [
        "# save with pickle\n",
        "pickle.dump(model, open('model.pkl', 'wb'))"
      ]
    },
    {
      "cell_type": "markdown",
      "metadata": {
        "id": "iTPAY3A75Al8"
      },
      "source": [
        "ROC Curve"
      ]
    },
    {
      "cell_type": "code",
      "execution_count": null,
      "metadata": {
        "colab": {
          "base_uri": "https://localhost:8080/",
          "height": 484
        },
        "id": "8Riyy30IwDZf",
        "outputId": "99af58cc-6d52-49c8-ad6b-c8b75c254aa8"
      },
      "outputs": [
        {
          "name": "stdout",
          "output_type": "stream",
          "text": [
            "18750/18750 [==============================] - 29s 2ms/step\n",
            "Model 7 AUC score: 0.7437067570813307\n"
          ]
        },
        {
          "data": {
            "image/png": "[encoded data removed]",
            "text/plain": [
              "<Figure size 640x480 with 1 Axes>"
            ]
          },
          "metadata": {},
          "output_type": "display_data"
        }
      ],
      "source": [
        "# return a value of 1 if the predicted value is greater than 0.5 \n",
        "y_pred_proba=(model.predict(X) > 0.5).astype(\"int32\")\n",
        "fpr, tpr, _ = metrics.roc_curve(y,  y_pred_proba)\n",
        "print(f'Model 7 AUC score: {roc_auc_score(y, y_pred_proba)}')\n",
        "#create ROC curve\n",
        "plt.plot(fpr,tpr)\n",
        "plt.ylabel('True Positive Rate')\n",
        "plt.xlabel('False Positive Rate')\n",
        "plt.show()\n",
        "# AUC = 0.7437067570813307"
      ]
    },
    {
      "cell_type": "markdown",
      "metadata": {
        "id": "Qvd2j1_w5EcQ"
      },
      "source": [
        "Confusion Matrix"
      ]
    },
    {
      "cell_type": "code",
      "execution_count": null,
      "metadata": {
        "colab": {
          "base_uri": "https://localhost:8080/"
        },
        "id": "5oPE9s4w4ytN",
        "outputId": "98bc0e7d-aadd-4857-e8ae-dafe808043bf"
      },
      "outputs": [
        {
          "name": "stdout",
          "output_type": "stream",
          "text": [
            "[[207619  74809]\n",
            " [ 78664 238903]]\n"
          ]
        }
      ],
      "source": [
        "r = sklearn.metrics.confusion_matrix(y, y_pred_proba)\n",
        "print(r)"
      ]
    },
    {
      "cell_type": "markdown",
      "metadata": {
        "id": "0lS_nKhTS4fJ"
      },
      "source": [
        "# Gradient Boosting Classifier"
      ]
    },
    {
      "cell_type": "markdown",
      "metadata": {
        "id": "LAmTIvqITBGA"
      },
      "source": [
        "### GBC Model Nb 1 "
      ]
    },
    {
      "cell_type": "code",
      "execution_count": null,
      "metadata": {
        "id": "keZQicOXt--_"
      },
      "outputs": [],
      "source": [
        "# Gradient Boosting Classifier \n",
        "gradient_booster = GradientBoostingClassifier(learning_rate=0.01, n_estimators= 500, max_depth = 5,subsample= 0.98, min_samples_split= 20, max_features= 6)\n",
        "gbc1=gradient_booster.fit(X_train,y_train)\n",
        "print(classification_report(y_test,gradient_booster.predict(X_test)))\n",
        "gbc1.score(X_test, y_test)\n",
        "# Accuracy:0.711930932757773\n",
        "# Runtime:14 minutes"
      ]
    },
    {
      "cell_type": "markdown",
      "metadata": {
        "id": "1OSdYd1-TAOn"
      },
      "source": [
        "### GBC Model Nb 2"
      ]
    },
    {
      "cell_type": "code",
      "execution_count": null,
      "metadata": {
        "id": "QZo1GspM3YqY"
      },
      "outputs": [],
      "source": [
        "# Gradient Boosting Classifier \n",
        "gradient_booster = GradientBoostingClassifier(learning_rate=0.03, n_estimators= 500, max_depth = 5,subsample= 0.98, min_samples_split= 20, max_features= 6)\n",
        "gbc2=gradient_booster.fit(X_train,y_train)\n",
        "print(classification_report(y_test,gradient_booster.predict(X_test)))\n",
        "gbc2.score(X_test, y_test)\n",
        "# Accuracy:0.7246227051892099\n",
        "# Runtime = 14 minutes "
      ]
    },
    {
      "cell_type": "markdown",
      "metadata": {
        "id": "wMEa-QHFTMB8"
      },
      "source": [
        "### GBC Model Nb 3"
      ]
    },
    {
      "cell_type": "code",
      "execution_count": null,
      "metadata": {
        "id": "EfPR7-T33cll"
      },
      "outputs": [],
      "source": [
        "# Gradient Boosting Classifier \n",
        "gradient_booster = GradientBoostingClassifier(learning_rate=0.1, n_estimators= 500, max_depth = 5,subsample= 0.98, min_samples_split= 20, max_features= 6)\n",
        "gbc3=gradient_booster.fit(X_train,y_train)\n",
        "print(classification_report(y_test,gradient_booster.predict(X_test)))\n",
        "gbc3.score(X_test, y_test)\n",
        "# Accuracy:0.7322477687314061"
      ]
    },
    {
      "cell_type": "markdown",
      "metadata": {
        "id": "RLsqhJYCTMnZ"
      },
      "source": [
        "### GBC Model Nb 4"
      ]
    },
    {
      "cell_type": "code",
      "execution_count": null,
      "metadata": {
        "id": "Qo9jqfXM6Vof"
      },
      "outputs": [],
      "source": [
        "# Gradient Boosting Classifier \n",
        "gradient_booster = GradientBoostingClassifier(learning_rate=0.3, n_estimators= 500, max_depth = 5,subsample= 0.98, min_samples_split= 20, max_features= 6)\n",
        "gbc3=gradient_booster.fit(X_train,y_train)\n",
        "print(classification_report(y_test,gradient_booster.predict(X_test)))\n",
        "gbc3.score(X_test, y_test)\n",
        "# Accuracy: 0.7338144484537371\n",
        "# Runtime: 10 minutes"
      ]
    },
    {
      "cell_type": "markdown",
      "metadata": {
        "id": "bXylHIt6TRZ8"
      },
      "source": [
        "### GBC Model Nb 5"
      ]
    },
    {
      "cell_type": "code",
      "execution_count": null,
      "metadata": {
        "id": "jjNgp-fB3hEa"
      },
      "outputs": [],
      "source": [
        "# Gradient Boosting Classifier \n",
        "gradient_booster = GradientBoostingClassifier(learning_rate=1, n_estimators= 500, max_depth = 5,subsample= 0.98, min_samples_split= 20, max_features= 6)\n",
        "gbc4=gradient_booster.fit(X_train,y_train)\n",
        "print(classification_report(y_test,gradient_booster.predict(X_test)))\n",
        "gbc4.score(X_test, y_test)\n",
        "# Accuracy: 0.7151309594246619\n",
        "# Runtime: 10 mintues "
      ]
    },
    {
      "cell_type": "markdown",
      "metadata": {
        "id": "wy4y5RSVTTA_"
      },
      "source": [
        "### GBC Model Nb 6"
      ]
    },
    {
      "cell_type": "code",
      "execution_count": null,
      "metadata": {
        "id": "5OOilanI6fUc"
      },
      "outputs": [],
      "source": [
        "# Gradient Boosting Classifier \n",
        "gradient_booster = GradientBoostingClassifier(learning_rate=3, n_estimators= 500, max_depth = 5,subsample= 0.98, min_samples_split= 20, max_features= 6)\n",
        "gbc4=gradient_booster.fit(X_train,y_train)\n",
        "print(classification_report(y_test,gradient_booster.predict(X_test)))\n",
        "gbc4.score(X_test, y_test)\n",
        "# Accuracy: 0.5391211593429945\n",
        "# Runtime: 14 minutes"
      ]
    }
  ],
  "metadata": {
    "colab": {
      "collapsed_sections": [
        "vh1R7BNIQkJ4",
        "9_mZvCgVQxrr",
        "gXLB3pwuM0ry",
        "kZxR3cqYNB5Z",
        "HEfvOE_jNgB2",
        "HKZ_TKkIOS0z",
        "yGgJWU5CR_iS",
        "LAmTIvqITBGA",
        "1OSdYd1-TAOn",
        "wMEa-QHFTMB8",
        "RLsqhJYCTMnZ",
        "bXylHIt6TRZ8",
        "wy4y5RSVTTA_"
      ],
      "provenance": []
    },
    "gpuClass": "standard",
    "kernelspec": {
      "display_name": "Python 3",
      "name": "python3"
    },
    "language_info": {
      "name": "python"
    }
  },
  "nbformat": 4,
  "nbformat_minor": 0
}
